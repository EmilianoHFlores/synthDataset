{
 "cells": [
  {
   "cell_type": "code",
   "execution_count": 16,
   "metadata": {},
   "outputs": [],
   "source": [
    "import os\n",
    "import random\n",
    "import json\n",
    "import numpy as np\n",
    "import cv2\n",
    "from PIL import Image, ImageDraw, ImageEnhance, ImageFilter\n",
    "from pycocotools import mask\n",
    "from skimage import measure\n",
    "import json\n",
    "import open3d as o3d\n",
    "import time"
   ]
  },
  {
   "cell_type": "code",
   "execution_count": 18,
   "metadata": {},
   "outputs": [],
   "source": [
    "folder = 'hsvtest/'\n",
    "imgpath = 'test1.png'\n",
    "origimg = Image.open(folder + imgpath)\n",
    "\n",
    "rescaling_min = 0.1\n",
    "rescaling_max = 1.0\n",
    "hue_min = -0.02\n",
    "hue_max = 0.02\n",
    "saturation_min = -3.0\n",
    "saturation_max = 1.0\n",
    "value_min = -0.05\n",
    "value_max = 0.2\n",
    "\n",
    "while True:\n",
    "\n",
    "    img = origimg\n",
    "    # Rotation and rescaling\n",
    "    fg_img = img\n",
    "    angle = random.randint(-5, 5)\n",
    "    scale = random.uniform(rescaling_min, rescaling_max)\n",
    "    fg_img = fg_img.rotate(angle, resample=Image.BICUBIC, expand=True)\n",
    "    fg_img = fg_img.resize((int(fg_img.width * scale), int(fg_img.height * scale)))\n",
    "    fg_img = ImageEnhance.Brightness(fg_img).enhance(random.uniform(1.0, 2.0))\n",
    "    fg_img = ImageEnhance.Contrast(fg_img).enhance(random.uniform(0.7, 1.3))\n",
    "    fg_img = ImageEnhance.Color(fg_img).enhance(random.uniform(0.5, 1.5))\n",
    "    fg_img = fg_img.filter(ImageFilter.GaussianBlur(radius=random.uniform(0.0, 1.0)))\n",
    "\n",
    "    img = fg_img\n",
    "\n",
    "    showimg = np.array(img)\n",
    "    showimg = cv2.cvtColor(showimg, cv2.COLOR_BGR2RGB)\n",
    "    cv2.imshow(\"test\", showimg)\n",
    "    if cv2.waitKey(1) == 27:\n",
    "        cv2.destroyAllWindows()\n",
    "        break\n",
    "    time.sleep(0.5)"
   ]
  }
 ],
 "metadata": {
  "kernelspec": {
   "display_name": "Python 3",
   "language": "python",
   "name": "python3"
  },
  "language_info": {
   "codemirror_mode": {
    "name": "ipython",
    "version": 3
   },
   "file_extension": ".py",
   "mimetype": "text/x-python",
   "name": "python",
   "nbconvert_exporter": "python",
   "pygments_lexer": "ipython3",
   "version": "3.8.10"
  },
  "orig_nbformat": 4
 },
 "nbformat": 4,
 "nbformat_minor": 2
}
